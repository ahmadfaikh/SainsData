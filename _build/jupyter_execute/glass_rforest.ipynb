{
 "cells": [
  {
   "cell_type": "markdown",
   "metadata": {},
   "source": [
    "# Glass Indentification\n",
    "Analisis dan Klasifikasi pada Dataset Kaca Untuk Menentukan Tipe Kaca"
   ]
  },
  {
   "cell_type": "markdown",
   "metadata": {},
   "source": [
    "## Bussines Understanding\n",
    "Dataset ini bersisi tentang data- data spesifikasi presentase kandungan senyawa kimia penyusun sebuah kaca untuk kemudian dikategorikan dalam jenis kaca tertentu.  Kajian klasifikasi jenis kaca dilatarbelakangi oleh penyelidikan kriminologi. Di TKP, kaca yang tersisa dapat digunakan sebagai barang bukti, jika diidentifikasi dengan benar\n",
    "\n"
   ]
  },
  {
   "cell_type": "markdown",
   "metadata": {},
   "source": [
    "## Data Understanding\n",
    "data understanding meliputi :\n",
    "<ul>\n",
    "    <li>Mendeskripsikan tiap fitur pada data berupa tipe data, dan deskripsi data</li>\n",
    "    <li>Mengidentifikasi missing values</li>    \n",
    "    <li>Eksplorasi data untuk mendapatkan detail tiap vitur</li>    \n",
    "    <li>Identifikasi outlayer atau tidak</li>\n",
    "    <li>Identifikasi jumlah data(proporsi data per class) untuk mengetahui keseimbangan data</li>\n",
    "</ul>\n",
    "\n",
    "Sebelum itu, kita akan me- load dataset terlebih dahulu. Kita akan menggunakan library pandas untuk membantu menampilkan dataset"
   ]
  },
  {
   "cell_type": "code",
   "execution_count": 1,
   "metadata": {
    "colab": {
     "base_uri": "https://localhost:8080/",
     "height": 300
    },
    "id": "nhXvlf12-fac",
    "outputId": "3b2b2723-7001-4cf4-8641-eee6d00794bf"
   },
   "outputs": [
    {
     "data": {
      "text/html": [
       "<div>\n",
       "<style scoped>\n",
       "    .dataframe tbody tr th:only-of-type {\n",
       "        vertical-align: middle;\n",
       "    }\n",
       "\n",
       "    .dataframe tbody tr th {\n",
       "        vertical-align: top;\n",
       "    }\n",
       "\n",
       "    .dataframe thead th {\n",
       "        text-align: right;\n",
       "    }\n",
       "</style>\n",
       "<table border=\"1\" class=\"dataframe\">\n",
       "  <thead>\n",
       "    <tr style=\"text-align: right;\">\n",
       "      <th></th>\n",
       "      <th>RI</th>\n",
       "      <th>na2o</th>\n",
       "      <th>mg</th>\n",
       "      <th>al2o3</th>\n",
       "      <th>sio2</th>\n",
       "      <th>k2o</th>\n",
       "      <th>cao</th>\n",
       "      <th>bao</th>\n",
       "      <th>fe2o3</th>\n",
       "      <th>label</th>\n",
       "    </tr>\n",
       "  </thead>\n",
       "  <tbody>\n",
       "    <tr>\n",
       "      <th>0</th>\n",
       "      <td>1.52101</td>\n",
       "      <td>13.64</td>\n",
       "      <td>4.49</td>\n",
       "      <td>1.10</td>\n",
       "      <td>71.78</td>\n",
       "      <td>0.06</td>\n",
       "      <td>8.75</td>\n",
       "      <td>0.0</td>\n",
       "      <td>0.00</td>\n",
       "      <td>1</td>\n",
       "    </tr>\n",
       "    <tr>\n",
       "      <th>1</th>\n",
       "      <td>1.51761</td>\n",
       "      <td>13.89</td>\n",
       "      <td>3.60</td>\n",
       "      <td>1.36</td>\n",
       "      <td>72.73</td>\n",
       "      <td>0.48</td>\n",
       "      <td>7.83</td>\n",
       "      <td>0.0</td>\n",
       "      <td>0.00</td>\n",
       "      <td>1</td>\n",
       "    </tr>\n",
       "    <tr>\n",
       "      <th>2</th>\n",
       "      <td>1.51618</td>\n",
       "      <td>13.53</td>\n",
       "      <td>3.55</td>\n",
       "      <td>1.54</td>\n",
       "      <td>72.99</td>\n",
       "      <td>0.39</td>\n",
       "      <td>7.78</td>\n",
       "      <td>0.0</td>\n",
       "      <td>0.00</td>\n",
       "      <td>1</td>\n",
       "    </tr>\n",
       "    <tr>\n",
       "      <th>3</th>\n",
       "      <td>1.51766</td>\n",
       "      <td>13.21</td>\n",
       "      <td>3.69</td>\n",
       "      <td>1.29</td>\n",
       "      <td>72.61</td>\n",
       "      <td>0.57</td>\n",
       "      <td>8.22</td>\n",
       "      <td>0.0</td>\n",
       "      <td>0.00</td>\n",
       "      <td>1</td>\n",
       "    </tr>\n",
       "    <tr>\n",
       "      <th>4</th>\n",
       "      <td>1.51742</td>\n",
       "      <td>13.27</td>\n",
       "      <td>3.62</td>\n",
       "      <td>1.24</td>\n",
       "      <td>73.08</td>\n",
       "      <td>0.55</td>\n",
       "      <td>8.07</td>\n",
       "      <td>0.0</td>\n",
       "      <td>0.00</td>\n",
       "      <td>1</td>\n",
       "    </tr>\n",
       "    <tr>\n",
       "      <th>5</th>\n",
       "      <td>1.51596</td>\n",
       "      <td>12.79</td>\n",
       "      <td>3.61</td>\n",
       "      <td>1.62</td>\n",
       "      <td>72.97</td>\n",
       "      <td>0.64</td>\n",
       "      <td>8.07</td>\n",
       "      <td>0.0</td>\n",
       "      <td>0.26</td>\n",
       "      <td>1</td>\n",
       "    </tr>\n",
       "    <tr>\n",
       "      <th>6</th>\n",
       "      <td>1.51743</td>\n",
       "      <td>13.30</td>\n",
       "      <td>3.60</td>\n",
       "      <td>1.14</td>\n",
       "      <td>73.09</td>\n",
       "      <td>0.58</td>\n",
       "      <td>8.17</td>\n",
       "      <td>0.0</td>\n",
       "      <td>0.00</td>\n",
       "      <td>1</td>\n",
       "    </tr>\n",
       "    <tr>\n",
       "      <th>7</th>\n",
       "      <td>1.51756</td>\n",
       "      <td>13.15</td>\n",
       "      <td>3.61</td>\n",
       "      <td>1.05</td>\n",
       "      <td>73.24</td>\n",
       "      <td>0.57</td>\n",
       "      <td>8.24</td>\n",
       "      <td>0.0</td>\n",
       "      <td>0.00</td>\n",
       "      <td>1</td>\n",
       "    </tr>\n",
       "  </tbody>\n",
       "</table>\n",
       "</div>"
      ],
      "text/plain": [
       "        RI   na2o    mg  al2o3   sio2   k2o   cao  bao  fe2o3  label\n",
       "0  1.52101  13.64  4.49   1.10  71.78  0.06  8.75  0.0   0.00      1\n",
       "1  1.51761  13.89  3.60   1.36  72.73  0.48  7.83  0.0   0.00      1\n",
       "2  1.51618  13.53  3.55   1.54  72.99  0.39  7.78  0.0   0.00      1\n",
       "3  1.51766  13.21  3.69   1.29  72.61  0.57  8.22  0.0   0.00      1\n",
       "4  1.51742  13.27  3.62   1.24  73.08  0.55  8.07  0.0   0.00      1\n",
       "5  1.51596  12.79  3.61   1.62  72.97  0.64  8.07  0.0   0.26      1\n",
       "6  1.51743  13.30  3.60   1.14  73.09  0.58  8.17  0.0   0.00      1\n",
       "7  1.51756  13.15  3.61   1.05  73.24  0.57  8.24  0.0   0.00      1"
      ]
     },
     "execution_count": 1,
     "metadata": {},
     "output_type": "execute_result"
    }
   ],
   "source": [
    "import pandas as pd\n",
    "df = pd.read_csv('glass_dataset.csv')\n",
    "df.head(8)"
   ]
  },
  {
   "cell_type": "markdown",
   "metadata": {},
   "source": [
    "### Deskripsi Data\n",
    "Dataset glass classification didapat dari laman UC Irvine Machine Learning repository. Link dapat diakses\n",
    "[disini](https://archive.ics.uci.edu/dataset/42/glass+identification).\n",
    "\n",
    "Dataset ini diambil pada hari Minggu, 29 Oktober 2023. Dataset ini memiliki kelebihan, yaitu memiliki tipe data yang sama dalam setiap fitur nya, sehingga lebih mudah untuk diolah.\n",
    "\n",
    "Pada data tersebut terlihat memiliki 9 fitur \n",
    "\n",
    "**Tipe Data**\n",
    "\n",
    "Dalam dataset ini, terdapat dua tipe data, yaitu numerik dan multivariate\n",
    "fitur.\n",
    "1. RI : Numerik\n",
    "2. NA2O : Numerik\n",
    "3. MGO : Numerik\n",
    "4. AL2O3 : Numerik\n",
    "5. SIO2 : Numerik\n",
    "6. K2O : Numerik\n",
    "7. CAO : Numerik\n",
    "8. BAO : Numerik\n",
    "9. FE2O3 : Numerik\n",
    "10. label : Polytomous\n",
    "\n",
    "    - Tipe data Numerik merupakan sekumpulan data yang tergambar dalam bentuk angka, bukan kata-kata. Data numerik dapat disebut juga data kuantitatif.\n",
    "    - Tipe data Polytomous mengacu pada jenis data kategorikal yang memiliki lebih dari dua kategori.\n",
    "\n",
    "**Deskripsi Fitur**\n",
    "\n",
    "Setiap fitur menjelaskan presentase kandungan senyawa kimia yang menyusun kaca:\n",
    "\n",
    "1. RI<br>Refractive Index, atau indeks bias, merupakan ukuran sejauh mana cahaya dapat merambat. Indeks refraksi didefinisikan sebagai rasio kecepatan cahaya dalam vakum. memiliki persamaan\n",
    "   $$\n",
    "    \\text n = c/v\n",
    "    $$\n",
    "dimana :\n",
    "- n = indeks bias medium\n",
    "- c = cepat rambat cahaya di ruang hampa\n",
    "- v = cepat rambat cahaya di medium\n",
    "\n",
    "2. NA2O<br>Senyawa kimia natrium oksida\n",
    "3. MGO<br>Senyawa kimia magnesium oksida\n",
    "4. AL2<br>Senyawa kimia aluminium oksida\n",
    "5. SIO2<br>Silikon Oksida\n",
    "6. K2O<br>Potasium Oksida\n",
    "7. CAO<br>Kalsium Oksida\n",
    "8. BAO<br>Barium Oksida\n",
    "9. FE203<br>Besi(III) Oksida (iron Oxide)\n",
    "   \n",
    "\n",
    "\n",
    "### Identifikasi Missing Val\n",
    "Missing value merupakan kondisi dimana data pada suatu fitur tertentu tidak memiliki nilai atau biasanya terbaca null\n",
    "Missing value pada glass dataset dapat dilihat menggunakan fungsi \n",
    "```python\n",
    ".isnull()\n",
    "```\n",
    "\n",
    "ss"
   ]
  },
  {
   "cell_type": "code",
   "execution_count": 2,
   "metadata": {},
   "outputs": [
    {
     "name": "stdout",
     "output_type": "stream",
     "text": [
      "RI       0\n",
      "na2o     0\n",
      "mg       0\n",
      "al2o3    0\n",
      "sio2     0\n",
      "k2o      0\n",
      "cao      0\n",
      "bao      0\n",
      "fe2o3    0\n",
      "label    0\n",
      "dtype: int64\n"
     ]
    }
   ],
   "source": [
    "import pandas as pd\n",
    "\n",
    "# Menampilkan jumlah nilai yang hilang per kolom\n",
    "missing_values = df.isnull().sum()\n",
    "print(missing_values)\n"
   ]
  },
  {
   "cell_type": "markdown",
   "metadata": {},
   "source": [
    "### Identifikasi Duplikat Data\n",
    "Duplikat data dapat diketahui dengan fungsi dari pandas yaitu\n",
    "```python\n",
    ".duplicated()\n",
    "```\n",
    "\n"
   ]
  },
  {
   "cell_type": "code",
   "execution_count": 3,
   "metadata": {
    "scrolled": true
   },
   "outputs": [
    {
     "name": "stdout",
     "output_type": "stream",
     "text": [
      "Data Duplikat:\n",
      "1\n",
      "         RI   na2o    mg  al2o3   sio2   k2o   cao  bao  fe2o3  label\n",
      "39  1.52213  14.21  3.82   0.47  71.77  0.11  9.57  0.0    0.0      1\n"
     ]
    }
   ],
   "source": [
    "duplicate_rows = df.duplicated().sum()\n",
    "print(\"Data Duplikat:\")\n",
    "print(duplicate_rows)\n",
    "\n",
    "show_duplicate_rows = df[df.duplicated()]\n",
    "print(show_duplicate_rows)"
   ]
  },
  {
   "cell_type": "markdown",
   "metadata": {},
   "source": [
    "Pada dataset ini, terdapat data duplikat"
   ]
  },
  {
   "cell_type": "markdown",
   "metadata": {},
   "source": [
    "### Eksplorasi Data\n",
    "#### Jumlah Data dan Jumlah Fitur\n",
    "Jumlah data dari dataset dapat diketahui menggunakan fungsi pandas"
   ]
  },
  {
   "cell_type": "code",
   "execution_count": 4,
   "metadata": {},
   "outputs": [
    {
     "name": "stdout",
     "output_type": "stream",
     "text": [
      "Banyaknya data :  214\n"
     ]
    }
   ],
   "source": [
    "print(\"Banyaknya data : \", df.shape[0])"
   ]
  },
  {
   "cell_type": "markdown",
   "metadata": {},
   "source": [
    "Jumlah fitur pada dataset dapat diketahui menggunakan fungsi pandas. Terlebih dahulu kita akan drop kolom label"
   ]
  },
  {
   "cell_type": "code",
   "execution_count": 5,
   "metadata": {},
   "outputs": [
    {
     "name": "stdout",
     "output_type": "stream",
     "text": [
      "\n",
      "Banyaknya fitur yang digunakan :  9\n"
     ]
    }
   ],
   "source": [
    "# Memisahkan kolom target (label) dari kolom fitur\n",
    "x = df.drop(columns=['label'], axis =1)  # Kolom fitur\n",
    "y = df['label']  # Kolom target\n",
    "print(\"\\nBanyaknya fitur yang digunakan : \", x.shape[1])"
   ]
  },
  {
   "cell_type": "markdown",
   "metadata": {},
   "source": [
    "#### Information gain\n",
    "Information gain merupakan salah satu teknik seleksi fitur untuk melihat skor seberapa pengaruh suatu fitur terhadap hasil dari pengukuran.\n",
    "Dalam Scikit-learn, terdapat modul untuk seleksi fitur yaitu\n",
    "```python\n",
    "mutual_info_classif\n",
    "```\n",
    "yang akan mendapatkan score tiap fitur terhadap kolom target(dalam hal ini kolom label).\n"
   ]
  },
  {
   "cell_type": "code",
   "execution_count": 6,
   "metadata": {
    "colab": {
     "base_uri": "https://localhost:8080/",
     "height": 496
    },
    "id": "xhZFvFqYkVKT",
    "outputId": "8e8748a0-a2b9-46f9-af65-013c65d746b5"
   },
   "outputs": [
    {
     "data": {
      "text/html": [
       "<div>\n",
       "<style scoped>\n",
       "    .dataframe tbody tr th:only-of-type {\n",
       "        vertical-align: middle;\n",
       "    }\n",
       "\n",
       "    .dataframe tbody tr th {\n",
       "        vertical-align: top;\n",
       "    }\n",
       "\n",
       "    .dataframe thead th {\n",
       "        text-align: right;\n",
       "    }\n",
       "</style>\n",
       "<table border=\"1\" class=\"dataframe\">\n",
       "  <thead>\n",
       "    <tr style=\"text-align: right;\">\n",
       "      <th></th>\n",
       "      <th>fitur</th>\n",
       "      <th>skor</th>\n",
       "    </tr>\n",
       "  </thead>\n",
       "  <tbody>\n",
       "    <tr>\n",
       "      <th>0</th>\n",
       "      <td>RI</td>\n",
       "      <td>0.359231</td>\n",
       "    </tr>\n",
       "    <tr>\n",
       "      <th>1</th>\n",
       "      <td>na2o</td>\n",
       "      <td>0.284999</td>\n",
       "    </tr>\n",
       "    <tr>\n",
       "      <th>2</th>\n",
       "      <td>mg</td>\n",
       "      <td>0.403180</td>\n",
       "    </tr>\n",
       "    <tr>\n",
       "      <th>3</th>\n",
       "      <td>al2o3</td>\n",
       "      <td>0.399145</td>\n",
       "    </tr>\n",
       "    <tr>\n",
       "      <th>4</th>\n",
       "      <td>sio2</td>\n",
       "      <td>0.079036</td>\n",
       "    </tr>\n",
       "    <tr>\n",
       "      <th>5</th>\n",
       "      <td>k2o</td>\n",
       "      <td>0.304263</td>\n",
       "    </tr>\n",
       "    <tr>\n",
       "      <th>6</th>\n",
       "      <td>cao</td>\n",
       "      <td>0.250717</td>\n",
       "    </tr>\n",
       "    <tr>\n",
       "      <th>7</th>\n",
       "      <td>bao</td>\n",
       "      <td>0.331158</td>\n",
       "    </tr>\n",
       "    <tr>\n",
       "      <th>8</th>\n",
       "      <td>fe2o3</td>\n",
       "      <td>0.091365</td>\n",
       "    </tr>\n",
       "  </tbody>\n",
       "</table>\n",
       "</div>"
      ],
      "text/plain": [
       "   fitur      skor\n",
       "0     RI  0.359231\n",
       "1   na2o  0.284999\n",
       "2     mg  0.403180\n",
       "3  al2o3  0.399145\n",
       "4   sio2  0.079036\n",
       "5    k2o  0.304263\n",
       "6    cao  0.250717\n",
       "7    bao  0.331158\n",
       "8  fe2o3  0.091365"
      ]
     },
     "execution_count": 6,
     "metadata": {},
     "output_type": "execute_result"
    }
   ],
   "source": [
    "from sklearn.feature_selection import SelectKBest, mutual_info_classif\n",
    "import matplotlib.pyplot as plt\n",
    "\n",
    "\n",
    "# Inisialisasi objek SelectKBest dengan metrik Information Gain\n",
    "selector = SelectKBest(score_func=mutual_info_classif, k=9)  # Anda bisa mengganti 'k' sesuai dengan jumlah fitur yang ingin dipilih\n",
    "\n",
    "# Fit dan transformasi data\n",
    "X_new = selector.fit_transform(x, y)\n",
    "\n",
    "# Mendapatkan indeks fitur yang terpilih\n",
    "selected_features = selector.get_support(indices=True)\n",
    "\n",
    "# Mendapatkan skor Information Gain untuk setiap fitur\n",
    "feature_scores = selector.scores_\n",
    "\n",
    "# Menampilkan dalam bentuk tabel\n",
    "feature_names = x.columns[selected_features]\n",
    "inf_gain = {}\n",
    "inf_gain['fitur'] = feature_names\n",
    "inf_gain['skor'] = feature_scores\n",
    "show_dt = pd.DataFrame(inf_gain)\n",
    "show_dt\n",
    "\n"
   ]
  },
  {
   "cell_type": "code",
   "execution_count": 7,
   "metadata": {},
   "outputs": [
    {
     "data": {
      "image/png": "[encoded data removed]",
      "text/plain": [
       "<Figure size 640x480 with 1 Axes>"
      ]
     },
     "metadata": {},
     "output_type": "display_data"
    }
   ],
   "source": [
    "plt.bar(feature_names, feature_scores)\n",
    "plt.xlabel('Fitur')\n",
    "plt.ylabel('Skor Information Gain')\n",
    "plt.title('Skor Information Gain Berdasarkan Fitur')\n",
    "plt.xticks(rotation=45)\n",
    "plt.show()\n"
   ]
  },
  {
   "cell_type": "markdown",
   "metadata": {},
   "source": [
    "Dari data diatas, fitur yang memiliki pengaruh paling sedikit terhadap target adalah sio2, fe2o3. Pengaruh kedua fitur tersebut terhadap akurasi akan dibuktikan pada tahap modelling"
   ]
  },
  {
   "cell_type": "markdown",
   "metadata": {},
   "source": [
    "### Identifikasi Outlier\n",
    "Dalam identifikasi outlier, metode yang akan kita gunakan adalah dengan Interquartile range (IQR). Dalam metode IQR, melibatkan proses berikut\n",
    "- hitung Q1 dan Q3\n",
    "  - Q1 adalah kuartil pertama dari data\n",
    "  - Q3 adalah kuartil ketiga dari data\n",
    "- Hitung IQR\n",
    "  \n",
    "  Rumus dari IQR adalah  \n",
    "$$\n",
    "\\text {IQR} = Q_3-Q_1\n",
    "$$\n",
    "- Hitung Batas Atas dan Bawah\n",
    "  - Hitung batas atas dengan rumus\n",
    "     \n",
    "    $$\n",
    "    \\text {upper bound} = Q_3+1.5*IQR\n",
    "    $$\n",
    "    \n",
    "  - Hitung batas bawah dengan rumus\n",
    "    \n",
    "    $$\n",
    "    \\text {lower bound} = Q_1-1.5*IQR\n",
    "    $$\n",
    "- Identifikasi Outlier\n",
    "  \n",
    "  Data yang memiliki nilai diliar batas bawah dan batas atas akan diidentifikasi sebagai outlier"
   ]
  },
  {
   "cell_type": "code",
   "execution_count": 8,
   "metadata": {
    "colab": {
     "base_uri": "https://localhost:8080/"
    },
    "id": "Nv6R28Miskr3",
    "outputId": "273f5ede-7d4d-4395-e68c-97f8bcdce21d"
   },
   "outputs": [
    {
     "name": "stdout",
     "output_type": "stream",
     "text": [
      "          RI   na2o    mg  al2o3   sio2   k2o   cao   bao  fe2o3  label\n",
      "5    1.51596  12.79  3.61   1.62  72.97  0.64  8.07  0.00   0.26      1\n",
      "21   1.51966  14.77  3.75   0.29  72.02  0.03  9.00  0.00   0.00      1\n",
      "32   1.51775  12.85  3.48   1.23  72.97  0.61  8.56  0.09   0.22      1\n",
      "36   1.51909  13.89  3.53   1.32  71.81  0.51  8.78  0.11   0.00      1\n",
      "38   1.52213  14.21  3.82   0.47  71.77  0.11  9.57  0.00   0.00      1\n",
      "..       ...    ...   ...    ...    ...   ...   ...   ...    ...    ...\n",
      "209  1.51623  14.14  0.00   2.88  72.61  0.08  9.18  1.06   0.00      7\n",
      "210  1.51685  14.92  0.00   1.99  73.06  0.00  8.40  1.59   0.00      7\n",
      "211  1.52065  14.36  0.00   2.02  73.42  0.00  8.44  1.64   0.00      7\n",
      "212  1.51651  14.38  0.00   1.94  73.61  0.00  8.48  1.57   0.00      7\n",
      "213  1.51711  14.23  0.00   2.08  73.36  0.00  8.62  1.67   0.00      7\n",
      "\n",
      "[78 rows x 10 columns]\n"
     ]
    }
   ],
   "source": [
    "# Hitung IQR\n",
    "Q1 = df.quantile(0.25)\n",
    "Q3 = df.quantile(0.75)\n",
    "IQR = Q3 - Q1\n",
    "\n",
    "# Tentukan batas atas dan bawah untuk outlier\n",
    "lower_bound = Q1 - 1.5 * IQR\n",
    "upper_bound = Q3 + 1.5 * IQR\n",
    "\n",
    "# Identifikasi outlier\n",
    "outliers = ((df < lower_bound) | (df > upper_bound)).any(axis=1)\n",
    "\n",
    "# Tampilkan baris dengan outlier\n",
    "outlier_rows = df[outliers]\n",
    "print(outlier_rows)\n"
   ]
  },
  {
   "cell_type": "markdown",
   "metadata": {},
   "source": [
    "### Identifikasi Proporsi data Per Class\n",
    "dalam identifikasi proporsi data, dapat digunakan fungsi \n",
    "```python\n",
    ".value_counts()\n",
    "```\n",
    "yang terdapat pada library pandas"
   ]
  },
  {
   "cell_type": "code",
   "execution_count": 9,
   "metadata": {},
   "outputs": [
    {
     "data": {
      "image/png": "[encoded data removed]",
      "text/plain": [
       "<Figure size 640x480 with 1 Axes>"
      ]
     },
     "metadata": {},
     "output_type": "display_data"
    }
   ],
   "source": [
    "# Menghitung proporsi data tiap kategori\n",
    "category_counts = df['label'].value_counts()\n",
    "\n",
    "# Membuat diagram lingkaran\n",
    "plt.pie(category_counts, labels=category_counts.index, autopct='%1.1f%%')\n",
    "plt.title('Proporsi Data Tiap Kategori')\n",
    "plt.show()"
   ]
  },
  {
   "cell_type": "code",
   "execution_count": 10,
   "metadata": {},
   "outputs": [
    {
     "data": {
      "text/plain": [
       "2    76\n",
       "1    70\n",
       "7    29\n",
       "3    17\n",
       "5    13\n",
       "6     9\n",
       "Name: label, dtype: int64"
      ]
     },
     "execution_count": 10,
     "metadata": {},
     "output_type": "execute_result"
    }
   ],
   "source": [
    "category_counts"
   ]
  },
  {
   "cell_type": "markdown",
   "metadata": {},
   "source": [
    "Dari analisis diatas, dapat dilihat bahwa proporsi data kurang seimbang. Data di dominasi oleh kelas nomor 1, dan 2"
   ]
  },
  {
   "cell_type": "markdown",
   "metadata": {},
   "source": [
    "**Kesimpulan**\n",
    "1. Data tidak memiliki missing values\n",
    "2. Data memiliki banyak outlier\n",
    "3. Data memiliki proporsi yang tidak seimbang\n",
    "4. Seluruh fitur memiliki pengaruh terhadap hasil\n",
    "5. terdapat 1 data duplikat"
   ]
  },
  {
   "cell_type": "markdown",
   "metadata": {},
   "source": [
    "## Data Preprocessing\n",
    "### Menghilangkan Data Duplikat\n",
    "Terdapat 1 data duplikat yang akan dihapus"
   ]
  },
  {
   "cell_type": "code",
   "execution_count": 11,
   "metadata": {},
   "outputs": [
    {
     "name": "stdout",
     "output_type": "stream",
     "text": [
      "Data Duplikat:\n",
      "0\n"
     ]
    }
   ],
   "source": [
    "# Menghapus data yang duplikat\n",
    "df_clean_dup = df.drop_duplicates()\n",
    "\n",
    "duplicate_rows = df_clean_dup.duplicated().sum()\n",
    "print(\"Data Duplikat:\")\n",
    "print(duplicate_rows)\n"
   ]
  },
  {
   "cell_type": "markdown",
   "metadata": {},
   "source": [
    "### Balancing Data\n",
    "Dalam tahap balancing data, Kita akan menggunakan teknik oversampling. Oversampling adalah suatu teknik dalam pengolahan data yang digunakan untuk menangani ketidakseimbangan dalam jumlah sampel antar kelas dalam dataset. Ketidakseimbangan kelas terjadi ketika satu atau beberapa kelas dalam dataset memiliki jumlah sampel yang jauh lebih sedikit daripada kelas-kelas lainnya. Situasi ini dapat mempengaruhi kinerja model pembelajaran mesin, terutama ketika model cenderung untuk memprediksi kelas mayoritas. Salah satu metode oversampling adalah SMOTE (Synthetic Minority Over-sampling Technique) Yaitu, mesin akan menghasilkan sampel sintetis baru untuk kelas minoritas dengan cara menggabungkan fitur dari beberapa sampel yang sudah ada. kita akan mencoba menggunakan library dari python yaitu imbalanced-learn dengan modul SMOTE\n",
    "\n"
   ]
  },
  {
   "cell_type": "code",
   "execution_count": 12,
   "metadata": {},
   "outputs": [
    {
     "name": "stdout",
     "output_type": "stream",
     "text": [
      "Requirement already satisfied: imbalanced-learn in c:\\users\\hp\\appdata\\local\\programs\\python\\python310\\lib\\site-packages (0.11.0)"
     ]
    },
    {
     "name": "stderr",
     "output_type": "stream",
     "text": [
      "\n",
      "[notice] A new release of pip is available: 23.2.1 -> 23.3.1\n",
      "[notice] To update, run: python.exe -m pip install --upgrade pip\n"
     ]
    },
    {
     "name": "stdout",
     "output_type": "stream",
     "text": [
      "\n",
      "Requirement already satisfied: numpy>=1.17.3 in c:\\users\\hp\\appdata\\local\\programs\\python\\python310\\lib\\site-packages (from imbalanced-learn) (1.23.5)\n",
      "Requirement already satisfied: scipy>=1.5.0 in c:\\users\\hp\\appdata\\local\\programs\\python\\python310\\lib\\site-packages (from imbalanced-learn) (1.11.2)\n",
      "Requirement already satisfied: scikit-learn>=1.0.2 in c:\\users\\hp\\appdata\\local\\programs\\python\\python310\\lib\\site-packages (from imbalanced-learn) (1.3.1)\n",
      "Requirement already satisfied: joblib>=1.1.1 in c:\\users\\hp\\appdata\\local\\programs\\python\\python310\\lib\\site-packages (from imbalanced-learn) (1.3.2)\n",
      "Requirement already satisfied: threadpoolctl>=2.0.0 in c:\\users\\hp\\appdata\\local\\programs\\python\\python310\\lib\\site-packages (from imbalanced-learn) (3.2.0)\n"
     ]
    }
   ],
   "source": [
    "!pip install imbalanced-learn"
   ]
  },
  {
   "cell_type": "code",
   "execution_count": 13,
   "metadata": {},
   "outputs": [],
   "source": [
    "from imblearn.over_sampling import SMOTE\n",
    "\n",
    "# Inisialisasi RandomOverSampler\n",
    "ros = SMOTE(random_state=42)\n",
    "\n",
    "# Melakukan oversampling\n",
    "x_resampled, y_resampled = ros.fit_resample(x, y)\n",
    "data_merge = x_resampled.join(y_resampled)\n",
    "data_merge.to_csv('glass_dataset_smote.csv')"
   ]
  },
  {
   "cell_type": "markdown",
   "metadata": {},
   "source": [
    "Kemudian, kita akan melihat hasil dari balancing data"
   ]
  },
  {
   "cell_type": "code",
   "execution_count": 14,
   "metadata": {},
   "outputs": [
    {
     "data": {
      "text/plain": [
       "1    76\n",
       "2    76\n",
       "3    76\n",
       "5    76\n",
       "6    76\n",
       "7    76\n",
       "Name: label, dtype: int64"
      ]
     },
     "execution_count": 14,
     "metadata": {},
     "output_type": "execute_result"
    }
   ],
   "source": [
    "category_counts = y_resampled.value_counts()\n",
    "category_counts"
   ]
  },
  {
   "cell_type": "markdown",
   "metadata": {},
   "source": [
    "Setelah melalui teknik oversampling, maka kita mendapatkan proporsi data yang seimbang"
   ]
  },
  {
   "cell_type": "markdown",
   "metadata": {},
   "source": [
    "### Normalisasi Data\n",
    "\n",
    "#### Normalisasi Minmax\n",
    "MinMax normalization adalah teknik normalisasi yang digunakan untuk mengubah nilai-nilai dalam suatu fitur ke dalam rentang tertentu, sering kali 0 hingga 1. dalam normalisasi minmax, melibatkan nilai tertinggin dan terendah dalam suatu fitur. Dijelaskan dengan rumus\n",
    "$$X' = \\frac{X-Xmin}{Xmax - Xmin}$$\n",
    "\n",
    "Dimana :\n",
    "- X adalah nilai asli dari suatu kolom/fitur\n",
    "- min adalah nilai minimum dari suatu kolom/fitur dalam dataset\n",
    "- max adalah nilai maximum dari suatu kolom/fitur dalam dataset\n",
    "- X' adalah nilai X yang telah dinormalisasi.\n",
    "\n",
    "dalam hal ini, kita akan menggunakan modul MinMaxScaler dari library scikit-learn"
   ]
  },
  {
   "cell_type": "code",
   "execution_count": 15,
   "metadata": {},
   "outputs": [],
   "source": [
    "from sklearn.preprocessing import MinMaxScaler"
   ]
  },
  {
   "cell_type": "markdown",
   "metadata": {},
   "source": [
    "Setelah import library nya, kita akan split dataset. Tujuan dadi split data adalah membagi data menjadi dua bagian, yaitu data training sebagai pelatihan data, dan data testing sebagai penguji kinerja model nantinya"
   ]
  },
  {
   "cell_type": "code",
   "execution_count": 16,
   "metadata": {
    "colab": {
     "base_uri": "https://localhost:8080/"
    },
    "id": "8W9r9GwG-9w9",
    "outputId": "dade425b-4ac1-4de5-f27a-07558fa106de"
   },
   "outputs": [
    {
     "name": "stdout",
     "output_type": "stream",
     "text": [
      "Banyaknya data latih :  364\n",
      "Banyaknya data uji   :  92\n"
     ]
    }
   ],
   "source": [
    "from sklearn.model_selection import train_test_split\n",
    "x_train, x_test, y_train, y_test = train_test_split(x_resampled, y_resampled, test_size=0.2, random_state=42)\n",
    "print(\"Banyaknya data latih : \", x_train.shape[0])\n",
    "print(\"Banyaknya data uji   : \", x_test.shape[0])\n",
    "\n",
    "# fitur.shape, fitur_train.shape, fitur_test.shape"
   ]
  },
  {
   "cell_type": "markdown",
   "metadata": {
    "id": "m3_cDBSz_kEd"
   },
   "source": [
    "Kita akan melakukan inisialisasi scaler terlebih dahulu. "
   ]
  },
  {
   "cell_type": "code",
   "execution_count": 17,
   "metadata": {
    "id": "zMkBGx-R_lDF"
   },
   "outputs": [],
   "source": [
    "import pickle\n",
    "from pickle import dump\n",
    "from pickle import load\n",
    "\n",
    "minmax_scaler = MinMaxScaler()\n",
    "minmax_x_train = minmax_scaler.fit_transform(x_train)\n",
    "min_max_scaler ='min_max_scaler.pkl'\n"
   ]
  },
  {
   "cell_type": "markdown",
   "metadata": {},
   "source": [
    "Kemudian, model dari minmax scaler akan disimpan dalam file pickle(.pkl), untuk nantinya akan dipanggil dalam proses modelling"
   ]
  },
  {
   "cell_type": "code",
   "execution_count": 18,
   "metadata": {},
   "outputs": [],
   "source": [
    "# Menyimpan hasil normalisasi minmaxscaler ke dalam file pickle\n",
    "with open(min_max_scaler, 'wb') as file:\n",
    "    pickle.dump(minmax_scaler, file)\n",
    "pickled_minmax_scaler = pickle.load(open('min_max_scaler.pkl','rb'))\n",
    "pickled_minmax_scaler\n",
    "minmax_x_test = pickled_minmax_scaler.transform(x_test)"
   ]
  },
  {
   "cell_type": "markdown",
   "metadata": {},
   "source": [
    "## Klasifikasi dengan Random Forest\n"
   ]
  },
  {
   "cell_type": "markdown",
   "metadata": {},
   "source": [
    "\n",
    "\n",
    "Random Forest adalah sebuah ensemble learning method yang terdiri dari sejumlah besar pohon keputusan. Setiap pohon keputusan, $T_i$, dibentuk secara acak dan independen. Prediksi dari Random Forest, $\\hat{y}$, dihasilkan dari kombinasi prediksi dari setiap pohon keputusan:\n",
    "\n",
    "$$\n",
    "\\hat{y} = \\frac{1}{N} \\sum_{i=1}^{N} T_i(x)\n",
    "$$\n",
    "\n",
    "dengan $N$ sebagai jumlah pohon keputusan dalam ensemble. \n",
    "\n",
    "Pohon keputusan dibentuk dengan menggunakan subset acak dari data pelatihan, dan pada setiap node, pemilihan fitur juga dilakukan secara acak. Hal ini membantu dalam mengatasi overfitting dan meningkatkan generalisasi model.\n"
   ]
  },
  {
   "cell_type": "markdown",
   "metadata": {},
   "source": [
    "Kita akan me- load model normalisasi yang telah disimpan tadi. Kemudian akan di transform ke dalam data train dan data testing"
   ]
  },
  {
   "cell_type": "code",
   "execution_count": 19,
   "metadata": {
    "id": "DDvmfKTd_1Da"
   },
   "outputs": [],
   "source": [
    "pickled_minmax_scaler = pickle.load(open('min_max_scaler.pkl','rb'))\n",
    "pickled_minmax_scaler\n",
    "minmax_x_test = pickled_minmax_scaler.transform(x_test)\n",
    "minmax_x_train = pickled_minmax_scaler.fit_transform(x_train)"
   ]
  },
  {
   "cell_type": "markdown",
   "metadata": {},
   "source": [
    "Kita akan menggunakan modul RandomForestClassifier dari library scikit-learn"
   ]
  },
  {
   "cell_type": "code",
   "execution_count": 20,
   "metadata": {
    "colab": {
     "base_uri": "https://localhost:8080/"
    },
    "id": "ZdQhOyFl_584",
    "outputId": "6942d2f3-46f4-4d47-ad71-e42788fc6be9"
   },
   "outputs": [
    {
     "name": "stdout",
     "output_type": "stream",
     "text": [
      "Accuracy: 0.93\n"
     ]
    }
   ],
   "source": [
    "from sklearn.ensemble import RandomForestClassifier \n",
    "from sklearn.metrics import accuracy_score, classification_report\n",
    "# Create and train the Random Forest classifier\n",
    "clf = RandomForestClassifier(n_estimators=100, random_state=42)\n",
    "clf.fit(minmax_x_train, y_train)\n",
    "\n",
    "# Make predictions on the test set\n",
    "y_pred = clf.predict(minmax_x_test)\n",
    "\n",
    "# Menghitung akurasi skor\n",
    "accuracy = accuracy_score(y_test, y_pred)\n",
    "\n",
    "# Print hasil akurasi\n",
    "print(f\"Accuracy: {accuracy:.2f}\")"
   ]
  },
  {
   "cell_type": "markdown",
   "metadata": {},
   "source": [
    "Dari modelling diatas, didapatkan skor akurasi yang cukup bagus, yaitu di 0,93"
   ]
  },
  {
   "cell_type": "markdown",
   "metadata": {},
   "source": [
    "## Evaluasi"
   ]
  },
  {
   "cell_type": "markdown",
   "metadata": {},
   "source": [
    "Dalam modelling yang telah kita lakukan dengan melakukan kombinasi\n",
    "\n",
    "- Oversampling dengan SMOTE\n",
    "- normalisasi dengan minmax\n",
    "- klasifikasi dengan Random Forest, dengan  n_estimator = 100\n",
    "\n",
    "Didapatkan hasil modelling dengan akurasi 0,93\n",
    "\n",
    "Kemudian, kita akan melihat precision, recall, dan f1-score"
   ]
  },
  {
   "cell_type": "code",
   "execution_count": 21,
   "metadata": {
    "id": "aztNeMtnVHB4"
   },
   "outputs": [
    {
     "name": "stdout",
     "output_type": "stream",
     "text": [
      "Accuracy: 0.93\n",
      "Classification Report:\n",
      "               precision    recall  f1-score   support\n",
      "\n",
      "           1       0.88      0.82      0.85        17\n",
      "           2       0.89      0.89      0.89        19\n",
      "           3       0.82      0.90      0.86        10\n",
      "           5       1.00      1.00      1.00        14\n",
      "           6       1.00      1.00      1.00        14\n",
      "           7       1.00      1.00      1.00        18\n",
      "\n",
      "    accuracy                           0.93        92\n",
      "   macro avg       0.93      0.94      0.93        92\n",
      "weighted avg       0.94      0.93      0.93        92\n",
      "\n"
     ]
    }
   ],
   "source": [
    "# Evaluate the model\n",
    "accuracy = accuracy_score(y_test, y_pred)\n",
    "report = classification_report(y_test, y_pred)\n",
    "\n",
    "# Print the results\n",
    "print(f\"Accuracy: {accuracy:.2f}\")\n",
    "print(\"Classification Report:\\n\", report)"
   ]
  },
  {
   "cell_type": "markdown",
   "metadata": {},
   "source": []
  }
 ],
 "metadata": {
  "colab": {
   "provenance": []
  },
  "kernelspec": {
   "display_name": "Python 3 (ipykernel)",
   "language": "python",
   "name": "python3"
  },
  "language_info": {
   "codemirror_mode": {
    "name": "ipython",
    "version": 3
   },
   "file_extension": ".py",
   "mimetype": "text/x-python",
   "name": "python",
   "nbconvert_exporter": "python",
   "pygments_lexer": "ipython3",
   "version": "3.10.7"
  }
 },
 "nbformat": 4,
 "nbformat_minor": 4
}